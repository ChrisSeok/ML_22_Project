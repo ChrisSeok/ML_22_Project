{
 "cells": [
  {
   "cell_type": "markdown",
   "id": "da13c4f4",
   "metadata": {},
   "source": [
    "# PS Machine Learning Project - Financial Transactions\n",
    "\n",
    "This notebook uses the SciKit-Learn implementation of the Gaussian Naive Bayes model to predict whether a financial transaction is fraudulent or not. "
   ]
  },
  {
   "cell_type": "code",
   "execution_count": 18,
   "id": "2aeb52d3",
   "metadata": {},
   "outputs": [],
   "source": [
    "# import libraries\n",
    "\n",
    "import pandas as pd\n",
    "import numpy as np\n",
    "import os\n",
    "import pathlib\n",
    "import pickle\n",
    "\n",
    "import sklearn\n",
    "from sklearn import metrics\n",
    "from sklearn.metrics import roc_auc_score\n",
    "from sklearn.model_selection import train_test_split\n",
    "from sklearn.naive_bayes import GaussianNB\n",
    "from sklearn.model_selection import GridSearchCV"
   ]
  },
  {
   "cell_type": "code",
   "execution_count": 19,
   "id": "5213627b",
   "metadata": {},
   "outputs": [
    {
     "name": "stdout",
     "output_type": "stream",
     "text": [
      "394\n",
      "227451\n"
     ]
    }
   ],
   "source": [
    "# import test data set (the one from OLAT) and separate X and y\n",
    "\n",
    "path = \"/data/mlproject22\" if os.path.exists(\"/data/mlproject22\") else \".\"\n",
    "train_data = pd.read_csv(os.path.join(path, \"transactions.csv.zip\"))\n",
    "X = train_data.drop(columns = \"Class\")\n",
    "y = train_data[\"Class\"]\n",
    "\n",
    "fraud = (y == 1).sum()\n",
    "no_fraud = (y == 0).sum()\n",
    "\n",
    "# print number of fraudulent vs. non-fraudulent data points\n",
    "\n",
    "print(fraud)\n",
    "print(no_fraud)"
   ]
  },
  {
   "cell_type": "code",
   "execution_count": 20,
   "id": "82e1b91d",
   "metadata": {},
   "outputs": [],
   "source": [
    "# split data: 70% training data, 30% test data\n",
    "X_train, X_test, y_train, y_test = train_test_split(X, y, test_size = 0.3, random_state = 42)"
   ]
  },
  {
   "cell_type": "code",
   "execution_count": 21,
   "id": "15b31fdb",
   "metadata": {},
   "outputs": [
    {
     "name": "stdout",
     "output_type": "stream",
     "text": [
      "Number of mislabeled points out of a total 68354 points : 426\n",
      "Number of false positives out of a total 68354 points : 393\n",
      "Number of false negatives out of a total 68354 points : 33\n"
     ]
    }
   ],
   "source": [
    "# initialize Gaussian Naive Bayes model: \n",
    "gnb = GaussianNB()\n",
    "\n",
    "# fit model to train data, predict y_pred for X_test\n",
    "# very quick!\n",
    "y_pred = gnb.fit(X_train, y_train).predict(X_test)\n",
    "print(\"Number of mislabeled points out of a total %d points : %d\" % (X_test.shape[0], (y_test != y_pred).sum()))\n",
    "print(\"Number of false positives out of a total %d points : %d\" % (X_test.shape[0], (y_test < y_pred).sum()))\n",
    "print(\"Number of false negatives out of a total %d points : %d\" % (X_test.shape[0], (y_test > y_pred).sum()))\n",
    "\n",
    "# Number of mislabeled points out of a total 68354 points : 426\n",
    "# Number of false positives out of a total 68354 points : 393\n",
    "# Number of false negatives out of a total 68354 points : 33"
   ]
  },
  {
   "cell_type": "code",
   "execution_count": 22,
   "id": "6deced2a",
   "metadata": {},
   "outputs": [
    {
     "name": "stdout",
     "output_type": "stream",
     "text": [
      "Accuracy: 0.993767738537613\n",
      "0.8414604173900735\n"
     ]
    }
   ],
   "source": [
    "# Model Accuracy (percentage of correct classifications)\n",
    "print(\"Accuracy:\",metrics.accuracy_score(y_test, y_pred))\n",
    "\n",
    "print(roc_auc_score(y_test, y_pred))"
   ]
  },
  {
   "cell_type": "markdown",
   "id": "9801daa8",
   "metadata": {},
   "source": [
    "# Gaussian Naive Bayes using 10-fold cross validation"
   ]
  },
  {
   "cell_type": "code",
   "execution_count": 48,
   "id": "72e5bc81",
   "metadata": {
    "scrolled": false
   },
   "outputs": [
    {
     "name": "stdout",
     "output_type": "stream",
     "text": [
      "Fitting 10 folds for each of 100 candidates, totalling 1000 fits\n",
      "GaussianNB(var_smoothing=2.848035868435799e-08)\n"
     ]
    }
   ],
   "source": [
    "# Gaussian Naive Bayes using 10-fold cross validation for training the model\n",
    "# (much slower than before)\n",
    "\n",
    "param_grid_nb = {\n",
    "    'var_smoothing': np.logspace(0,-9, num=100)\n",
    "}\n",
    "\n",
    "gnb_cv = GridSearchCV(estimator=GaussianNB(), param_grid=param_grid_nb, verbose=1, cv=10)\n",
    "gnb_cv.fit(X_train, y_train)\n",
    "print(gnb_cv.best_estimator_)\n",
    "\n",
    "#Fitting 10 folds for each of 100 candidates, totalling 1000 fits\n",
    "#GaussianNB(priors=None, var_smoothing=1.0)"
   ]
  },
  {
   "cell_type": "code",
   "execution_count": 99,
   "id": "476bc814",
   "metadata": {},
   "outputs": [
    {
     "name": "stdout",
     "output_type": "stream",
     "text": [
      "Number of mislabeled points out of a total 68354 points : 78\n",
      "Number of false positives out of a total 68354 points : 2\n",
      "Number of false negatives out of a total 68354 points : 76\n",
      "Number of fraudulent transactions in test data : 106\n",
      "Accuracy: 0.99885888170407\n",
      "0.6414947815182365\n"
     ]
    }
   ],
   "source": [
    "# prediction using the model trained with cross validation\n",
    "y_pred2 = gnb_cv.predict(X_test)\n",
    "print(\"Number of mislabeled points out of a total %d points : %d\" % (X_test.shape[0], (y_test != y_pred2).sum()))\n",
    "print(\"Number of false positives out of a total %d points : %d\" % (X_test.shape[0], (y_test < y_pred2).sum()))\n",
    "print(\"Number of false negatives out of a total %d points : %d\" % (X_test.shape[0], (y_test > y_pred2).sum()))\n",
    "\n",
    "print(\"Number of fraudulent transactions in test data :\", (y_test == 1).sum())\n",
    "\n",
    "# print accuracy \n",
    "print(\"Accuracy:\",metrics.accuracy_score(y_test, y_pred2))\n",
    "\n",
    "print(roc_auc_score(y_test, y_pred2))"
   ]
  },
  {
   "cell_type": "markdown",
   "id": "7593fddf",
   "metadata": {},
   "source": [
    "in the second try, false negatives make up more of the misclassifications\n",
    "than the false positives. (initially, this was the other way around.)\n",
    "the total amount of false negatives is also higher than before, while there\n",
    "are less misclassifications overall. therefore, I think the first version \n",
    "actually performs better, because it seems to be more reliable in classifying\n",
    "actual fraud as such. (the cross validation model only found 30 out of 106 fraudulent transactions, and it takes way longer for training)\n",
    "\n",
    "also, the roc_auc_score is lower than for the initial implementation."
   ]
  },
  {
   "cell_type": "code",
   "execution_count": 72,
   "id": "c4a01856",
   "metadata": {},
   "outputs": [
    {
     "name": "stdout",
     "output_type": "stream",
     "text": [
      "\n",
      "       Time  Feature0  Feature1  Feature2  Feature3  Feature4  Feature5  \\\n",
      "0   12187.0  1.127257  0.170387  1.675702  1.662017 -1.093046 -0.447651   \n",
      "1  149717.0 -0.723098 -1.307087  1.119492 -2.486829 -1.781857  0.382495   \n",
      "2   72288.0  1.357358 -0.802677  1.135552 -0.490788 -1.672022 -0.509976   \n",
      "3  168435.0  1.891806 -0.123111 -1.791275  0.342303  0.235308 -0.723866   \n",
      "4   55416.0 -0.378806  0.449422  0.154983 -0.899310 -0.678177 -1.419243   \n",
      "\n",
      "   Feature6  Feature7  Feature8  ...  Feature19  Feature20  Feature21  \\\n",
      "0 -0.590031 -0.071291  2.015259  ...  -0.150918  -0.170890   0.009832   \n",
      "1  0.221389 -0.021550 -1.964369  ...  -0.405059  -0.457047  -0.980797   \n",
      "2 -1.192288  0.044009 -0.001600  ...   0.034062   0.299976   0.911314   \n",
      "3  0.082800 -0.114664  0.767009  ...  -0.058299  -0.186402  -0.408728   \n",
      "4  0.130648  0.087002  0.509679  ...  -0.048294   0.053215   0.266919   \n",
      "\n",
      "   Feature22  Feature23  Feature24  Feature25  Feature26  Feature27  Amount  \n",
      "0   0.066699   0.877103   0.350030  -0.482569   0.052777   0.038219    4.99  \n",
      "1   0.006519  -0.488353   0.336841  -0.335149  -0.027314  -0.226558  299.00  \n",
      "2  -0.096112   0.427782   0.436567  -0.044389   0.045821   0.024275   10.00  \n",
      "3   0.091938  -0.518938  -0.082267  -0.088265  -0.015244  -0.022998   61.19  \n",
      "4   0.514422   0.412200  -1.279881  -0.166479   0.071403   0.150137   27.75  \n",
      "\n",
      "[5 rows x 30 columns]\n"
     ]
    },
    {
     "name": "stderr",
     "output_type": "stream",
     "text": [
      "/tmp/ipykernel_151/1641097672.py:11: DeprecationWarning: `np.bool` is a deprecated alias for the builtin `bool`. To silence this warning, use `bool` by itself. Doing this will not modify any behavior and is safe. If you specifically wanted the numpy scalar type, use `np.bool_` here.\n",
      "Deprecated in NumPy 1.20; for more details and guidance: https://numpy.org/devdocs/release/1.20.0-notes.html#deprecations\n",
      "  upper_tri = cor_matrix.where(np.triu(np.ones(cor_matrix.shape),k=1).astype(np.bool))\n"
     ]
    }
   ],
   "source": [
    "# here I tried removing any highly correlated features from the data set\n",
    "# but it seems like there are none to remove, which might explain\n",
    "# the high accuracy of the model (correlated features have a negative \n",
    "# impact on naive bayes models)\n",
    "\n",
    "from sklearn.covariance import empirical_covariance\n",
    "\n",
    "cor_matrix = X.corr().abs()\n",
    "#print(cor_matrix)\n",
    "\n",
    "upper_tri = cor_matrix.where(np.triu(np.ones(cor_matrix.shape),k=1).astype(np.bool))\n",
    "\n",
    "to_drop = [column for column in upper_tri.columns if any(upper_tri[column] > 0.95)]\n",
    "#print(); print(to_drop)\n",
    "\n",
    "X_reduced = X.drop(X.columns[to_drop], axis=1)\n",
    "print(); print(X_reduced.head())"
   ]
  },
  {
   "cell_type": "markdown",
   "id": "0ae17608",
   "metadata": {},
   "source": [
    "Save and load the Naive Bayes Model:"
   ]
  },
  {
   "cell_type": "code",
   "execution_count": 5,
   "id": "afb024bd",
   "metadata": {},
   "outputs": [],
   "source": [
    "#Save the model\n",
    "filename = 'naive_bayes_model.sav'\n",
    "pickle.dump(gnb, open(filename, 'wb'))"
   ]
  },
  {
   "cell_type": "code",
   "execution_count": 6,
   "id": "44a51758",
   "metadata": {},
   "outputs": [
    {
     "name": "stdout",
     "output_type": "stream",
     "text": [
      "0.993767738537613\n"
     ]
    }
   ],
   "source": [
    "# load the model from disk\n",
    "loaded_model = pickle.load(open(filename, 'rb'))\n",
    "result = loaded_model.score(X_test, y_test)\n",
    "print(result)"
   ]
  }
 ],
 "metadata": {
  "kernelspec": {
   "display_name": "Python 3 (ipykernel)",
   "language": "python",
   "name": "python3"
  },
  "language_info": {
   "codemirror_mode": {
    "name": "ipython",
    "version": 3
   },
   "file_extension": ".py",
   "mimetype": "text/x-python",
   "name": "python",
   "nbconvert_exporter": "python",
   "pygments_lexer": "ipython3",
   "version": "3.9.12"
  },
  "toc": {
   "base_numbering": 1,
   "nav_menu": {},
   "number_sections": true,
   "sideBar": true,
   "skip_h1_title": false,
   "title_cell": "Table of Contents",
   "title_sidebar": "Contents",
   "toc_cell": false,
   "toc_position": {},
   "toc_section_display": true,
   "toc_window_display": false
  },
  "varInspector": {
   "cols": {
    "lenName": 16,
    "lenType": 16,
    "lenVar": 40
   },
   "kernels_config": {
    "python": {
     "delete_cmd_postfix": "",
     "delete_cmd_prefix": "del ",
     "library": "var_list.py",
     "varRefreshCmd": "print(var_dic_list())"
    },
    "r": {
     "delete_cmd_postfix": ") ",
     "delete_cmd_prefix": "rm(",
     "library": "var_list.r",
     "varRefreshCmd": "cat(var_dic_list()) "
    }
   },
   "position": {
    "height": "335.85px",
    "left": "1003px",
    "right": "20px",
    "top": "125px",
    "width": "350px"
   },
   "types_to_exclude": [
    "module",
    "function",
    "builtin_function_or_method",
    "instance",
    "_Feature"
   ],
   "window_display": false
  }
 },
 "nbformat": 4,
 "nbformat_minor": 5
}
