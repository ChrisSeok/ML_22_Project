{
 "cells": [
  {
   "cell_type": "markdown",
   "id": "41362160",
   "metadata": {},
   "source": [
    "# K-Nearest Neighbor Model\n"
   ]
  },
  {
   "cell_type": "code",
   "execution_count": 9,
   "id": "644c3c47",
   "metadata": {},
   "outputs": [],
   "source": [
    "import pandas as pd\n",
    "import numpy as np\n",
    "import matplotlib.pyplot as plt\n",
    "from sklearn.neighbors import KNeighborsClassifier\n",
    "from sklearn.model_selection import train_test_split\n",
    "from sklearn.metrics import confusion_matrix\n",
    "import os\n",
    "import pathlib\n",
    "import pickle"
   ]
  },
  {
   "cell_type": "code",
   "execution_count": 10,
   "id": "f8b0dfe3",
   "metadata": {},
   "outputs": [],
   "source": [
    "# import dataset\n",
    "\n",
    "path = \"/data/mlproject22\" if os.path.exists(\"/data/mlproject22\") else \".\"\n",
    "tdata = pd.read_csv(os.path.join(path, \"transactions.csv.zip\"))\n",
    "\n",
    "#Setting X,y\n",
    "X = tdata.drop(columns=['Class'])\n",
    "y= tdata['Class']\n",
    "\n",
    "\n",
    "#Split data for train/test\n",
    "X_train, X_test, y_train, y_test = train_test_split(X, y, test_size = 0.1, random_state = None)"
   ]
  },
  {
   "cell_type": "code",
   "execution_count": 11,
   "id": "c064338c",
   "metadata": {},
   "outputs": [
    {
     "name": "stdout",
     "output_type": "stream",
     "text": [
      "fitting start...\n",
      "fitted\n"
     ]
    }
   ],
   "source": [
    "#training\n",
    "\n",
    "knn = KNeighborsClassifier(n_neighbors=3,weights='distance')\n",
    "print(\"fitting start...\")\n",
    "knn.fit(X_train, y_train)\n",
    "print(\"fitted\")"
   ]
  },
  {
   "cell_type": "code",
   "execution_count": 4,
   "id": "cf42e4b5",
   "metadata": {},
   "outputs": [
    {
     "name": "stdout",
     "output_type": "stream",
     "text": [
      "Accuracy: 0.9984200131665569\n"
     ]
    }
   ],
   "source": [
    "# prediction for X_test\n",
    "accuracy = knn.score(X_test, y_test)\n",
    "print(\"Accuracy:\",accuracy)"
   ]
  },
  {
   "cell_type": "code",
   "execution_count": null,
   "id": "743254db",
   "metadata": {},
   "outputs": [],
   "source": [
    "#Prediction&Visualization with Confusion Matrix\n",
    "\n",
    "prediction = knn.predict(X_test)\n",
    "\n",
    "TN, FP, FN, TP = confusion_matrix(y_test, prediction).ravel()\n",
    "\n",
    "x = [u'TP', u'FP', u'TN', u'FN']\n",
    "y = [TP, FP, TN, FN]\n",
    "\n",
    "fig, ax = plt.subplots()\n",
    "width = 0.75 # the width of the bars\n",
    "ind = np.arange(len(y))  # the x locations for the groups\n",
    "ax.barh(ind, y, width, color=\"blue\")\n",
    "ax.set_yticks(ind+width/2)\n",
    "ax.set_yticklabels(x, minor=False)\n",
    "plt.title('k=3 test result')\n",
    "plt.xlabel('amount of transaction')\n",
    "plt.ylabel('y')\n",
    "for i, v in enumerate(y):\n",
    "    ax.text(v + 3, i + .25, str(v), color='blue', fontweight='bold')\n",
    "plt.show()\n",
    "\n",
    "\n",
    "\n",
    "print('True Fraudulent(TP)  = ', TP)\n",
    "print('False Fraudulent(FP) = ', FP)\n",
    "print('True Not Fraudulent(TN)  = ', TN)\n",
    "print('False Not Fraudulent(FN) = ', FN)\n"
   ]
  },
  {
   "cell_type": "code",
   "execution_count": 7,
   "id": "73e77d8e",
   "metadata": {},
   "outputs": [],
   "source": [
    "#Save the model\n",
    "filename = 'k_nearest_neighbor.sav'\n",
    "pickle.dump(knn, open(filename, 'wb'))"
   ]
  },
  {
   "cell_type": "code",
   "execution_count": 8,
   "id": "7c91f9f4",
   "metadata": {},
   "outputs": [
    {
     "name": "stdout",
     "output_type": "stream",
     "text": [
      "0.9984200131665569\n"
     ]
    }
   ],
   "source": [
    "\n",
    "# load the model from disk\n",
    "loaded_model = pickle.load(open(filename, 'rb'))\n",
    "result = loaded_model.score(X_test, y_test)\n",
    "print(result)"
   ]
  }
 ],
 "metadata": {
  "kernelspec": {
   "display_name": "Python 3 (ipykernel)",
   "language": "python",
   "name": "python3"
  },
  "language_info": {
   "codemirror_mode": {
    "name": "ipython",
    "version": 3
   },
   "file_extension": ".py",
   "mimetype": "text/x-python",
   "name": "python",
   "nbconvert_exporter": "python",
   "pygments_lexer": "ipython3",
   "version": "3.9.12"
  },
  "toc": {
   "base_numbering": 1,
   "nav_menu": {},
   "number_sections": true,
   "sideBar": true,
   "skip_h1_title": false,
   "title_cell": "Table of Contents",
   "title_sidebar": "Contents",
   "toc_cell": false,
   "toc_position": {},
   "toc_section_display": true,
   "toc_window_display": true
  },
  "varInspector": {
   "cols": {
    "lenName": 16,
    "lenType": 16,
    "lenVar": 40
   },
   "kernels_config": {
    "python": {
     "delete_cmd_postfix": "",
     "delete_cmd_prefix": "del ",
     "library": "var_list.py",
     "varRefreshCmd": "print(var_dic_list())"
    },
    "r": {
     "delete_cmd_postfix": ") ",
     "delete_cmd_prefix": "rm(",
     "library": "var_list.r",
     "varRefreshCmd": "cat(var_dic_list()) "
    }
   },
   "types_to_exclude": [
    "module",
    "function",
    "builtin_function_or_method",
    "instance",
    "_Feature"
   ],
   "window_display": false
  }
 },
 "nbformat": 4,
 "nbformat_minor": 5
}
